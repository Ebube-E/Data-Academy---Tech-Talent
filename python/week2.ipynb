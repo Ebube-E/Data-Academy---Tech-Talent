{
 "cells": [
  {
   "cell_type": "code",
   "execution_count": 4,
   "metadata": {},
   "outputs": [
    {
     "name": "stdout",
     "output_type": "stream",
     "text": [
      "What operation would you like to carry out?\n",
      "Enter 1 to add\n",
      "Enter 2 to subtract\n",
      "Enter 3 to multiply\n",
      "Enter 4 to divide\n",
      "Invalid Selection. Try again!\n"
     ]
    }
   ],
   "source": [
    "# Task 1 Calculator\n",
    "'''Write a program that allows user to enter two numbers, and operator and then\n",
    "completes the calculation.'''\n",
    "\n",
    "# Calculator Operation menu\n",
    "print(\"What operation would you like to carry out?\")\n",
    "print(\"Enter 1 to add\")\n",
    "print(\"Enter 2 to subtract\")\n",
    "print(\"Enter 3 to multiply\")\n",
    "print(\"Enter 4 to divide\")\n",
    "\n",
    "num1 = float(input(\"Please enter your first number\"))\n",
    "num2 = float(input(\"Please enter your second number\"))\n",
    "\n",
    "#user Input\n",
    "operation = int(input(\"Enter the operation\"))\n",
    "\n",
    "if operation == 1:\n",
    "    output = num1 + num2\n",
    "elif operation == 2:\n",
    "    output = num1 - num2\n",
    "elif operation == 3:\n",
    "    output = num1 * num2\n",
    "elif operation == 4:\n",
    "    output = num1 / num2\n",
    "else:\n",
    "    output = \"Invalid Selection. Try again!\"\n",
    "\n",
    "print(output)\n",
    "\n"
   ]
  },
  {
   "cell_type": "code",
   "execution_count": 31,
   "metadata": {},
   "outputs": [
    {
     "name": "stdout",
     "output_type": "stream",
     "text": [
      "OH NO! Invalid number. Try Again\n"
     ]
    }
   ],
   "source": [
    "# Task 2 Joke Display\n",
    "\n",
    "'''Write a program that asks a user for their favourite number between 1 and 100 and then\n",
    "\n",
    "tells them a joke based on the number. You should use a minimum of 3 jokes'''\n",
    "\n",
    "user_choice = int(input(\"Enter your choice number between 1 -100 : \"))\n",
    "\n",
    "if user_choice < 50:\n",
    "    print(\"A Programmer's favorite eyewear is : Google.\")\n",
    "elif user_choice < 70:\n",
    "    print(\"Computer's Favorite snack ito eat is: Microchips!\")\n",
    "elif user_choice <= 100:\n",
    "    print(\"I dont know any programming, but I still EXCEL in my field!\")\n",
    "else:\n",
    "    print(\"OH NO! Invalid number. Try Again\")"
   ]
  },
  {
   "cell_type": "code",
   "execution_count": 25,
   "metadata": {},
   "outputs": [
    {
     "name": "stdout",
     "output_type": "stream",
     "text": [
      "Welcome to Northern Frock\n",
      "Press 1 to Display Balance\n",
      "Press 2 to Withdraw funds\n",
      "Press 3 to Deposit fund\n",
      "Press 9 to Return card\n",
      "Your Current balance is : £ 1000\n",
      "Enter: 1 to withdraw £10, 2 to withdraw £20, 3 to withdraw £40, 4 to withdraw £60, 5 to withdraw £80,6 to withdraw £100, 7 to other amount, 8 to return to main menu \n",
      "Please take your cash: 4\n",
      "Your new balance is: £  996\n"
     ]
    }
   ],
   "source": [
    "# Task 3 ATM\n",
    "\n",
    "'''Write a program that simulates the behaviour of a basic ATM'''\n",
    "#create a Function\n",
    "print(\"Welcome to Northern Frock\")\n",
    "\n",
    "pin = int(input(\"Enter your pin number:\")) \n",
    "print(\"Press 1 to Display Balance\")\n",
    "print(\"Press 2 to Withdraw funds\")\n",
    "print(\"Press 3 to Deposit fund\")\n",
    "print(\"Press 9 to Return card\")\n",
    "\n",
    "option = int(input(\"Please enter an option\"))\n",
    "current_balance = 1000\n",
    "max_amt = 900\n",
    "if option == 1:\n",
    "    print(\"Your Current balance is : £\", current_balance )\n",
    "    print(\"Maximum Amount to withdraw is : £\", max_amt)\n",
    "    print(\"Return to main menu.\")\n",
    "    \n",
    "elif option == 2:\n",
    "    print(\"Your Current balance is : £\", current_balance )\n",
    "    print(\"Enter: 1 to withdraw £10, 2 to withdraw £20, 3 to withdraw £40, 4 to withdraw £60, 5 to withdraw £80,\"\n",
    "        \"6 to withdraw £100, 7 to other amount, 8 to return to main menu \" )\n",
    "    withdrawal = int(input(\"Enter withdrawal amount\"))\n",
    "    new_balance = current_balance - withdrawal\n",
    "    if withdrawal == 1:\n",
    "        print(\"Please take your cash:\", withdrawal)\n",
    "        print(\"Your new balance is: £ \",  new_balance)\n",
    "    elif withdrawal == 2:\n",
    "        print(\"Please take your cash:\", withdrawal)\n",
    "        print(\"Your new balance is: £ \",  new_balance)\n",
    "    elif withdrawal == 3:\n",
    "        print(\"Please take your cash:\", withdrawal)\n",
    "        print(\"Your new balance is: £ \",  new_balance)\n",
    "    elif withdrawal == 4:\n",
    "        print(\"Please take your cash:\", withdrawal)\n",
    "        print(\"Your new balance is: £ \",  new_balance)\n",
    "    elif withdrawal == 5:\n",
    "        print(\"Please take your cash:\", withdrawal)\n",
    "        print(\"Your new balance is: £ \",  new_balance)\n",
    "    elif withdrawal == 6:\n",
    "        print(\"Please take your cash:\", withdrawal)\n",
    "        print(\"Your new balance is: £ \",  new_balance)\n",
    "    elif withdrawal == 7:\n",
    "        other_amt = int(input(\"Enter the amount you want to withdraw\"))\n",
    "        if other_amt % 10 != 0:\n",
    "            print(\"Please take your cash:\", other_amt)\n",
    "            print(\"Your new balance is: £ \",  current_balance - new_balance)\n",
    "        else:\n",
    "            print(\"Insufficient Funds\")\n",
    "    elif withdrawal == 8:\n",
    "        print(\"Please return to main menu\")\n",
    "elif option == 3:\n",
    "    deposit_amt = int(input(\"How much would you like to pay in?: \"))\n",
    "    current_balance += deposit_amt\n",
    "    print(\"You new Balance is : £\", current_balance)\n",
    "elif option == 9:\n",
    "    print(\"Here is your card...\")\n",
    "    print(\"Thank You! Bye\")\n",
    "\n",
    "\n",
    "\n",
    "\n",
    "\n",
    "\n",
    "\n",
    "\n",
    "\n",
    "\n"
   ]
  },
  {
   "cell_type": "code",
   "execution_count": 33,
   "metadata": {},
   "outputs": [
    {
     "name": "stdout",
     "output_type": "stream",
     "text": [
      "['Strawberry', 'Orange', 'Grapes']\n",
      "Orange\n",
      "{'Grapes', 'Strawberry', 'Orange'}\n",
      "{'Grapes', 'Strawberry', 'apple', 'Orange'}\n",
      "{'Grapes', 'Strawberry', 'apple', 'Orange'}\n",
      "{'Strawberry': 10, 'Orange': 15, 'Grapes': 20}\n",
      "15\n",
      "15\n"
     ]
    }
   ],
   "source": [
    "# Task 4: Lists\n",
    "'''Create 3 different programs to practice using lists.'''\n",
    "\n",
    "# 1 - Creates a list of three fruits:\n",
    "\n",
    "fruits = [\"Strawberry\", \"Orange\", \"Grapes\"]\n",
    "print(fruits) # prints all the fruits in the list\n",
    "print(fruits[1]) #prints the 2nd fruit in the list\n",
    "\n",
    "# 2 Creates a set of 3 fruits\n",
    "\n",
    "fruits = {\"Strawberry\", \"Orange\", \"Grapes\"}\n",
    "print(fruits)\n",
    "#add apple\n",
    "fruits.add(\"apple\")\n",
    "print(fruits)\n",
    "#try adding grapes again\n",
    "fruits.add(\"Grapes\")\n",
    "print(fruits)\n",
    "\n",
    "# 3 Creates a dictionary of three fruits with a corresponding price:\n",
    "fruits = {}\n",
    "\n",
    "#fruit price in £\n",
    "\n",
    "fruits = {\"Strawberry\" : 10, \"Orange\" : 15, \"Grapes\" : 20}\n",
    "\n",
    "print(fruits)\n",
    "print(fruits[\"Orange\"])\n",
    "\n",
    "if \"Orange\" in fruits:\n",
    "    print(fruits[\"Orange\"])\n",
    "else:\n",
    "    print(\"No price\")\n",
    "\n",
    "\n",
    "\n"
   ]
  }
 ],
 "metadata": {
  "interpreter": {
   "hash": "31f2aee4e71d21fbe5cf8b01ff0e069b9275f58929596ceb00d14d90e3e16cd6"
  },
  "kernelspec": {
   "display_name": "Python 3.8.9 64-bit",
   "language": "python",
   "name": "python3"
  },
  "language_info": {
   "codemirror_mode": {
    "name": "ipython",
    "version": 3
   },
   "file_extension": ".py",
   "mimetype": "text/x-python",
   "name": "python",
   "nbconvert_exporter": "python",
   "pygments_lexer": "ipython3",
   "version": "3.8.9"
  },
  "orig_nbformat": 4
 },
 "nbformat": 4,
 "nbformat_minor": 2
}
