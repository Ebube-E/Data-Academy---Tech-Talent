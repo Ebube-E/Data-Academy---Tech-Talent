{
 "cells": [
  {
   "cell_type": "code",
   "execution_count": null,
   "metadata": {},
   "outputs": [],
   "source": [
    "# Task 1: Favorite Meal"
   ]
  },
  {
   "cell_type": "code",
   "execution_count": 1,
   "metadata": {},
   "outputs": [
    {
     "name": "stdout",
     "output_type": "stream",
     "text": [
      "Hello World\n"
     ]
    }
   ],
   "source": [
    "print(\"Hello World\")"
   ]
  },
  {
   "cell_type": "code",
   "execution_count": 25,
   "metadata": {},
   "outputs": [
    {
     "name": "stdout",
     "output_type": "stream",
     "text": [
      "Hello, Hope You are Well?\n",
      "I Would Like to Know Your Favorite Meal!\n",
      "Your Favorite Meal is milk,rice,cake,and a glass of zobo.\n",
      "Enjoy Your Meal!\n"
     ]
    }
   ],
   "source": [
    "print(\"Hello, Hope You are Well?\")\n",
    "print(\"I Would Like to Know Your Favorite Meal!\")\n",
    "\n",
    "starter = input(\"What is your favorite Starter?\")\n",
    "main = input(\"What is your favorite Main Course?\")\n",
    "dessert = input(\"What is your favorite dessert?\")\n",
    "drink = input(\"What is your favorite drink?\")\n",
    "\n",
    "favorite_meal = print(\"Your Favorite Meal is \" + starter + \",\" + main + \",\" + dessert + \",\" + \"and a glass of \" + drink + \".\")\n",
    "print(\"Enjoy Your Meal!\")"
   ]
  },
  {
   "cell_type": "code",
   "execution_count": 26,
   "metadata": {},
   "outputs": [
    {
     "name": "stdout",
     "output_type": "stream",
     "text": [
      "Hello its Calculations Time!\n",
      "The Answer is:\n",
      "2\n"
     ]
    }
   ],
   "source": [
    "#Task 2 Calculations Subtraction\n",
    "\n",
    "print(\"Hello its Calculations Time!\")\n",
    "\n",
    "first_number = int(input(\"Enter Your First Number?\"))\n",
    "second_number = int(input(\"Enter Your Second Number?\"))\n",
    "print(\"The Answer is:\")\n",
    "subtraction = print(first_number - second_number)\n",
    "\n",
    "\n"
   ]
  },
  {
   "cell_type": "code",
   "execution_count": 15,
   "metadata": {},
   "outputs": [
    {
     "name": "stdout",
     "output_type": "stream",
     "text": [
      "Hello its Calculations Time!\n",
      "The Answer is:\n",
      "12\n"
     ]
    }
   ],
   "source": [
    "#Task 2 Calculations Multiplication\n",
    "print(\"Hello its Calculations Time!\")\n",
    "\n",
    "first_number = int(input(\"Enter Your First Number?\"))\n",
    "second_number = int(input(\"Enter Your Second Number?\"))\n",
    "print(\"The Answer is:\")\n",
    "multiplication = print(first_number * second_number)\n"
   ]
  },
  {
   "cell_type": "code",
   "execution_count": 35,
   "metadata": {},
   "outputs": [
    {
     "name": "stdout",
     "output_type": "stream",
     "text": [
      "Hello its Calculations Time!\n",
      "The Answer is:\n",
      "5.0\n"
     ]
    }
   ],
   "source": [
    "#Task 2 Calculations Division\n",
    "print(\"Hello its Calculations Time!\")\n",
    "\n",
    "first_number = int(input(\"Enter Your First Number?\"))\n",
    "second_number = int(input(\"Enter Your Second Number?\"))\n",
    "print(\"The Answer is:\")\n",
    "division = print(first_number / second_number)\n"
   ]
  },
  {
   "cell_type": "code",
   "execution_count": 17,
   "metadata": {},
   "outputs": [
    {
     "name": "stdout",
     "output_type": "stream",
     "text": [
      "What do you call a bear with no teeth?\n",
      "\n",
      "A gummy bear!\n"
     ]
    }
   ],
   "source": [
    "#Task 3: Joke\n",
    "\n",
    "joke = (\"What do you call a bear with no teeth?\\n A gummy bear!\")\n",
    "print(joke)"
   ]
  },
  {
   "cell_type": "code",
   "execution_count": 19,
   "metadata": {},
   "outputs": [
    {
     "name": "stdout",
     "output_type": "stream",
     "text": [
      "4\n",
      "5\n",
      "4.0\n",
      "5.0\n"
     ]
    }
   ],
   "source": [
    "#Task 4: Casting\n",
    "first_number = (input(\"Enter Your First Number?\"))\n",
    "second_number = (input(\"Enter Your Second Number?\"))\n",
    "print(int(first_number))\n",
    "print(int(second_number))\n",
    "print(float(first_number))\n",
    "print(float(second_number))\n",
    "\n"
   ]
  },
  {
   "cell_type": "code",
   "execution_count": 1,
   "metadata": {},
   "outputs": [
    {
     "name": "stdout",
     "output_type": "stream",
     "text": [
      "OLUEBUBE\n",
      "Ebube\n",
      "['Oluebube']\n"
     ]
    }
   ],
   "source": [
    "#Task 5 String Modification\n",
    "name = \"Oluebube\"\n",
    "print(name.upper())\n",
    "print(name.replace(\"Olue\", \"E\"))\n",
    "print(name.split(\",\"))"
   ]
  },
  {
   "cell_type": "code",
   "execution_count": 43,
   "metadata": {},
   "outputs": [
    {
     "name": "stdout",
     "output_type": "stream",
     "text": [
      "Each diner will pay: £ 20.0\n"
     ]
    }
   ],
   "source": [
    "#Task 6 \n",
    "\n",
    "\n",
    "total = int(input(\"What is the total bill?\"))\n",
    "diners = int(input(\"How many Diners?\"))\n",
    "division = (total / diners)\n",
    "print(f\"Each diner will pay: £ {division}\")\n",
    "\n",
    "\n"
   ]
  },
  {
   "cell_type": "code",
   "execution_count": null,
   "metadata": {},
   "outputs": [],
   "source": [
    "# bonus\n",
    "\n",
    "import math\n",
    "raduis = float(input(\"Enter the raduis of the cylinder\"))\n",
    "depth = float(input(\"Enter the depth of the cylinder\"))\n",
    "volume = math.pi*pow(raduis,2)*depth # = pie * raduis * raduis * depth\n",
    "rounded_answer = round(volume,3) # rounded to 3 decimal place\n",
    "print\n"
   ]
  }
 ],
 "metadata": {
  "interpreter": {
   "hash": "c5dfed38b033623adadc230a0ee07a503dda119d34fc70f5fb20ca6d6ae38356"
  },
  "kernelspec": {
   "display_name": "Python 3.9.7 ('base')",
   "language": "python",
   "name": "python3"
  },
  "language_info": {
   "codemirror_mode": {
    "name": "ipython",
    "version": 3
   },
   "file_extension": ".py",
   "mimetype": "text/x-python",
   "name": "python",
   "nbconvert_exporter": "python",
   "pygments_lexer": "ipython3",
   "version": "3.9.7"
  },
  "orig_nbformat": 4
 },
 "nbformat": 4,
 "nbformat_minor": 2
}
