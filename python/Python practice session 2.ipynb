{
 "cells": [
  {
   "cell_type": "markdown",
   "metadata": {},
   "source": [
    "### Comparison Operators <br>\n",
    "<br>\n",
    "\n",
    "== : value 1's content is the same as the comparrison <br>\n",
    "\\!= : value 1's content is not the same as the comparrison <br>\n",
    "<  : Less than <br>\n",
    "\\>  : Greater than <br>\n",
    "<=  : Less than or equals to<br>\n",
    "\\>=  : Greater than or equals to <br>"
   ]
  },
  {
   "cell_type": "markdown",
   "metadata": {},
   "source": []
  },
  {
   "cell_type": "code",
   "execution_count": 17,
   "metadata": {},
   "outputs": [
    {
     "name": "stdout",
     "output_type": "stream",
     "text": [
      "False\n",
      "True\n",
      "True\n",
      "False\n",
      "True\n",
      "False\n"
     ]
    }
   ],
   "source": [
    "x = 5\n",
    "y = 3\n",
    "\n",
    "print(x == y)\n",
    "print(x != y)\n",
    "print(x > y)\n",
    "print(x < y)\n",
    "print(x >= y)\n",
    "print(x <= y)"
   ]
  },
  {
   "cell_type": "markdown",
   "metadata": {},
   "source": [
    "## Logical Operators"
   ]
  },
  {
   "cell_type": "code",
   "execution_count": 18,
   "metadata": {},
   "outputs": [
    {
     "data": {
      "text/plain": [
       "False"
      ]
     },
     "execution_count": 18,
     "metadata": {},
     "output_type": "execute_result"
    }
   ],
   "source": [
    "#Returns True if both statements are true\n",
    "x <5 and x <10"
   ]
  },
  {
   "cell_type": "code",
   "execution_count": 12,
   "metadata": {},
   "outputs": [
    {
     "data": {
      "text/plain": [
       "False"
      ]
     },
     "execution_count": 12,
     "metadata": {},
     "output_type": "execute_result"
    }
   ],
   "source": [
    "#Returns True if one of the statements is true\n",
    "x <5 or x <4"
   ]
  },
  {
   "cell_type": "code",
   "execution_count": 13,
   "metadata": {},
   "outputs": [
    {
     "data": {
      "text/plain": [
       "True"
      ]
     },
     "execution_count": 13,
     "metadata": {},
     "output_type": "execute_result"
    }
   ],
   "source": [
    "#Reverses the result and will return False is the result is not true\n",
    "not(x <5 and X < 10)"
   ]
  },
  {
   "cell_type": "markdown",
   "metadata": {},
   "source": [
    "## IF....Else"
   ]
  },
  {
   "cell_type": "code",
   "execution_count": 14,
   "metadata": {},
   "outputs": [
    {
     "ename": "KeyboardInterrupt",
     "evalue": "Interrupted by user",
     "output_type": "error",
     "traceback": [
      "\u001b[1;31m---------------------------------------------------------------------------\u001b[0m",
      "\u001b[1;31mKeyboardInterrupt\u001b[0m                         Traceback (most recent call last)",
      "\u001b[1;32mc:\\Users\\CraigReeves\\OneDrive - TechTalent Academy\\Lesson Resources\\Data Academy\\NEW python\\NEW python 2\\New python 2.ipynb Cell 8'\u001b[0m in \u001b[0;36m<cell line: 2>\u001b[1;34m()\u001b[0m\n\u001b[0;32m      <a href='vscode-notebook-cell:/c%3A/Users/CraigReeves/OneDrive%20-%20TechTalent%20Academy/Lesson%20Resources/Data%20Academy/NEW%20python/NEW%20python%202/New%20python%202.ipynb#ch0000007?line=0'>1</a>\u001b[0m \u001b[39m#If Else example\u001b[39;00m\n\u001b[1;32m----> <a href='vscode-notebook-cell:/c%3A/Users/CraigReeves/OneDrive%20-%20TechTalent%20Academy/Lesson%20Resources/Data%20Academy/NEW%20python/NEW%20python%202/New%20python%202.ipynb#ch0000007?line=1'>2</a>\u001b[0m mark \u001b[39m=\u001b[39m \u001b[39mint\u001b[39m(\u001b[39minput\u001b[39;49m(\u001b[39m\"\u001b[39;49m\u001b[39mEnter mark: \u001b[39;49m\u001b[39m\"\u001b[39;49m))\n\u001b[0;32m      <a href='vscode-notebook-cell:/c%3A/Users/CraigReeves/OneDrive%20-%20TechTalent%20Academy/Lesson%20Resources/Data%20Academy/NEW%20python/NEW%20python%202/New%20python%202.ipynb#ch0000007?line=3'>4</a>\u001b[0m \u001b[39mif\u001b[39;00m mark \u001b[39m>\u001b[39m \u001b[39m65\u001b[39m:\n\u001b[0;32m      <a href='vscode-notebook-cell:/c%3A/Users/CraigReeves/OneDrive%20-%20TechTalent%20Academy/Lesson%20Resources/Data%20Academy/NEW%20python/NEW%20python%202/New%20python%202.ipynb#ch0000007?line=4'>5</a>\u001b[0m     \u001b[39mprint\u001b[39m(\u001b[39m\"\u001b[39m\u001b[39mPass\u001b[39m\u001b[39m\"\u001b[39m)\n",
      "File \u001b[1;32m~\\AppData\\Local\\Programs\\Python\\Python310\\lib\\site-packages\\ipykernel\\kernelbase.py:1161\u001b[0m, in \u001b[0;36mKernel.raw_input\u001b[1;34m(self, prompt)\u001b[0m\n\u001b[0;32m   <a href='file:///c%3A/Users/CraigReeves/AppData/Local/Programs/Python/Python310/lib/site-packages/ipykernel/kernelbase.py?line=1156'>1157</a>\u001b[0m \u001b[39mif\u001b[39;00m \u001b[39mnot\u001b[39;00m \u001b[39mself\u001b[39m\u001b[39m.\u001b[39m_allow_stdin:\n\u001b[0;32m   <a href='file:///c%3A/Users/CraigReeves/AppData/Local/Programs/Python/Python310/lib/site-packages/ipykernel/kernelbase.py?line=1157'>1158</a>\u001b[0m     \u001b[39mraise\u001b[39;00m StdinNotImplementedError(\n\u001b[0;32m   <a href='file:///c%3A/Users/CraigReeves/AppData/Local/Programs/Python/Python310/lib/site-packages/ipykernel/kernelbase.py?line=1158'>1159</a>\u001b[0m         \u001b[39m\"\u001b[39m\u001b[39mraw_input was called, but this frontend does not support input requests.\u001b[39m\u001b[39m\"\u001b[39m\n\u001b[0;32m   <a href='file:///c%3A/Users/CraigReeves/AppData/Local/Programs/Python/Python310/lib/site-packages/ipykernel/kernelbase.py?line=1159'>1160</a>\u001b[0m     )\n\u001b[1;32m-> <a href='file:///c%3A/Users/CraigReeves/AppData/Local/Programs/Python/Python310/lib/site-packages/ipykernel/kernelbase.py?line=1160'>1161</a>\u001b[0m \u001b[39mreturn\u001b[39;00m \u001b[39mself\u001b[39;49m\u001b[39m.\u001b[39;49m_input_request(\n\u001b[0;32m   <a href='file:///c%3A/Users/CraigReeves/AppData/Local/Programs/Python/Python310/lib/site-packages/ipykernel/kernelbase.py?line=1161'>1162</a>\u001b[0m     \u001b[39mstr\u001b[39;49m(prompt),\n\u001b[0;32m   <a href='file:///c%3A/Users/CraigReeves/AppData/Local/Programs/Python/Python310/lib/site-packages/ipykernel/kernelbase.py?line=1162'>1163</a>\u001b[0m     \u001b[39mself\u001b[39;49m\u001b[39m.\u001b[39;49m_parent_ident[\u001b[39m\"\u001b[39;49m\u001b[39mshell\u001b[39;49m\u001b[39m\"\u001b[39;49m],\n\u001b[0;32m   <a href='file:///c%3A/Users/CraigReeves/AppData/Local/Programs/Python/Python310/lib/site-packages/ipykernel/kernelbase.py?line=1163'>1164</a>\u001b[0m     \u001b[39mself\u001b[39;49m\u001b[39m.\u001b[39;49mget_parent(\u001b[39m\"\u001b[39;49m\u001b[39mshell\u001b[39;49m\u001b[39m\"\u001b[39;49m),\n\u001b[0;32m   <a href='file:///c%3A/Users/CraigReeves/AppData/Local/Programs/Python/Python310/lib/site-packages/ipykernel/kernelbase.py?line=1164'>1165</a>\u001b[0m     password\u001b[39m=\u001b[39;49m\u001b[39mFalse\u001b[39;49;00m,\n\u001b[0;32m   <a href='file:///c%3A/Users/CraigReeves/AppData/Local/Programs/Python/Python310/lib/site-packages/ipykernel/kernelbase.py?line=1165'>1166</a>\u001b[0m )\n",
      "File \u001b[1;32m~\\AppData\\Local\\Programs\\Python\\Python310\\lib\\site-packages\\ipykernel\\kernelbase.py:1205\u001b[0m, in \u001b[0;36mKernel._input_request\u001b[1;34m(self, prompt, ident, parent, password)\u001b[0m\n\u001b[0;32m   <a href='file:///c%3A/Users/CraigReeves/AppData/Local/Programs/Python/Python310/lib/site-packages/ipykernel/kernelbase.py?line=1201'>1202</a>\u001b[0m             \u001b[39mbreak\u001b[39;00m\n\u001b[0;32m   <a href='file:///c%3A/Users/CraigReeves/AppData/Local/Programs/Python/Python310/lib/site-packages/ipykernel/kernelbase.py?line=1202'>1203</a>\u001b[0m \u001b[39mexcept\u001b[39;00m \u001b[39mKeyboardInterrupt\u001b[39;00m:\n\u001b[0;32m   <a href='file:///c%3A/Users/CraigReeves/AppData/Local/Programs/Python/Python310/lib/site-packages/ipykernel/kernelbase.py?line=1203'>1204</a>\u001b[0m     \u001b[39m# re-raise KeyboardInterrupt, to truncate traceback\u001b[39;00m\n\u001b[1;32m-> <a href='file:///c%3A/Users/CraigReeves/AppData/Local/Programs/Python/Python310/lib/site-packages/ipykernel/kernelbase.py?line=1204'>1205</a>\u001b[0m     \u001b[39mraise\u001b[39;00m \u001b[39mKeyboardInterrupt\u001b[39;00m(\u001b[39m\"\u001b[39m\u001b[39mInterrupted by user\u001b[39m\u001b[39m\"\u001b[39m) \u001b[39mfrom\u001b[39;00m \u001b[39mNone\u001b[39m\n\u001b[0;32m   <a href='file:///c%3A/Users/CraigReeves/AppData/Local/Programs/Python/Python310/lib/site-packages/ipykernel/kernelbase.py?line=1205'>1206</a>\u001b[0m \u001b[39mexcept\u001b[39;00m \u001b[39mException\u001b[39;00m:\n\u001b[0;32m   <a href='file:///c%3A/Users/CraigReeves/AppData/Local/Programs/Python/Python310/lib/site-packages/ipykernel/kernelbase.py?line=1206'>1207</a>\u001b[0m     \u001b[39mself\u001b[39m\u001b[39m.\u001b[39mlog\u001b[39m.\u001b[39mwarning(\u001b[39m\"\u001b[39m\u001b[39mInvalid Message:\u001b[39m\u001b[39m\"\u001b[39m, exc_info\u001b[39m=\u001b[39m\u001b[39mTrue\u001b[39;00m)\n",
      "\u001b[1;31mKeyboardInterrupt\u001b[0m: Interrupted by user"
     ]
    }
   ],
   "source": [
    "#If Else example\n",
    "mark = int(input(\"Enter mark: \"))\n",
    "\n",
    "if mark > 65:\n",
    "    print(\"Pass\")\n",
    "else:\n",
    "    print(\"Fail\")\n",
    "\n"
   ]
  },
  {
   "cell_type": "code",
   "execution_count": null,
   "metadata": {},
   "outputs": [
    {
     "name": "stdout",
     "output_type": "stream",
     "text": [
      "Fail\n"
     ]
    }
   ],
   "source": [
    "mark = int(input(\"Enter mark: \"))\n",
    "\n",
    "if mark > 75:\n",
    "    print(\"Merit\")\n",
    "elif mark > 65:\n",
    "    print(\"Pass\")\n",
    "else:\n",
    "    print(\"Fail\")\n"
   ]
  },
  {
   "cell_type": "code",
   "execution_count": null,
   "metadata": {},
   "outputs": [],
   "source": [
    "user_name = \"Georgina\"\n",
    "UserName = \"Craig\"\n",
    "username = \"Satinder\"\n"
   ]
  },
  {
   "cell_type": "code",
   "execution_count": null,
   "metadata": {},
   "outputs": [
    {
     "name": "stdout",
     "output_type": "stream",
     "text": [
      "Georgina is your trainer.\n"
     ]
    }
   ],
   "source": [
    "if user_name == \"Donna\":\n",
    "    print(\"Donna is your trainer.\")\n",
    "elif user_name == \"Suzannah\":\n",
    "    print(\"Suzannah is your trainer.\")\n",
    "else:\n",
    "    print(user_name, \"is your trainer.\")\n"
   ]
  },
  {
   "cell_type": "code",
   "execution_count": null,
   "metadata": {},
   "outputs": [
    {
     "name": "stdout",
     "output_type": "stream",
     "text": [
      "Fail\n"
     ]
    }
   ],
   "source": [
    "#Nested If Example\n",
    "examlevel = int(input(\"Enter exam level: \"))\n",
    "\n",
    "if examlevel == 3:\n",
    "    mark = int(input(\"Enter level 3 mark: \"))\n",
    "    if mark > 65:\n",
    "        print(\"Pass\")\n",
    "    else:\n",
    "        print(\"Fail\")     \n",
    "        \n",
    "elif examlevel == 4:\n",
    "    mark = int(input(\"Enter level 4 mark: \"))\n",
    "    if mark > 50:\n",
    "        print(\"Pass\")\n",
    "    else:\n",
    "        print(\"Fail\")\n",
    "else:\n",
    "    print(\"Invalid Level\")\n",
    "        \n"
   ]
  },
  {
   "cell_type": "code",
   "execution_count": null,
   "metadata": {},
   "outputs": [
    {
     "name": "stdout",
     "output_type": "stream",
     "text": [
      "Menu:\n",
      "1 - Level 1\n",
      "2 - Level 2\n",
      "3 - Level 3\n",
      "4 - Level 4\n"
     ]
    }
   ],
   "source": [
    "#IF with multile conditions example\n",
    "print(\"Menu:\")\n",
    "print(\"1 - Level 1\")\n",
    "print(\"2 - Level 2\")\n",
    "print(\"3 - Level 3\")\n",
    "print(\"4 - Level 4\")\n",
    "\n",
    "examlevel = int(input(\"Enter exam level: \"))"
   ]
  },
  {
   "cell_type": "code",
   "execution_count": null,
   "metadata": {},
   "outputs": [
    {
     "name": "stdout",
     "output_type": "stream",
     "text": [
      "Fail\n"
     ]
    }
   ],
   "source": [
    "if examlevel == 1 or examlevel == 2:\n",
    "    mark = int(input(\"Enter Level 1 or 2 mark: \"))\n",
    "    if mark > 75:\n",
    "        print(\"Pass\")\n",
    "    else:\n",
    "        print(\"Fail\")             \n",
    "elif examlevel == 3 or examlevel == 4:\n",
    "    mark = int(input(\"Enter Level 3 or 4 mark: \"))\n",
    "    if examlevel == 3 and mark > 65:\n",
    "        print(\"Pass\")\n",
    "    elif examlevel == 4 and mark > 50:\n",
    "        print(\"Pass\")\n",
    "    else:\n",
    "        print(\"Fail\")   \n",
    "else:\n",
    "    print(\"Invalid Level\")\n"
   ]
  },
  {
   "cell_type": "markdown",
   "metadata": {},
   "source": [
    "## Lists"
   ]
  },
  {
   "cell_type": "code",
   "execution_count": null,
   "metadata": {},
   "outputs": [
    {
     "name": "stdout",
     "output_type": "stream",
     "text": [
      "Milkshake\n"
     ]
    }
   ],
   "source": [
    "farm_cows = [\"Winnie the Moo\", \"Dasiy\", \"Milkshake\", \"Buttercup\"]\n",
    "\n",
    "print(farm_cows[2])"
   ]
  },
  {
   "cell_type": "markdown",
   "metadata": {},
   "source": [
    "## List Methods"
   ]
  },
  {
   "cell_type": "code",
   "execution_count": null,
   "metadata": {},
   "outputs": [
    {
     "name": "stdout",
     "output_type": "stream",
     "text": [
      "['Winnie the Moo', 'Milkshake', 'Buttercup']\n"
     ]
    }
   ],
   "source": [
    "farm_cows = [\"Winnie the Moo\", \"Dasiy\", \"Milkshake\", \"Buttercup\"]\n",
    "farm_cows.pop(1)\n",
    "print(farm_cows)"
   ]
  },
  {
   "cell_type": "code",
   "execution_count": null,
   "metadata": {},
   "outputs": [
    {
     "data": {
      "text/plain": [
       "3"
      ]
     },
     "execution_count": 12,
     "metadata": {},
     "output_type": "execute_result"
    }
   ],
   "source": [
    "len(farm_cows)"
   ]
  },
  {
   "cell_type": "code",
   "execution_count": null,
   "metadata": {},
   "outputs": [
    {
     "name": "stdout",
     "output_type": "stream",
     "text": [
      "['Winnie the Moo', 'Milkshake', 'Buttercup', 'Steve', 'Steve', 'Steve']\n"
     ]
    }
   ],
   "source": [
    "farm_cows.append(\"Steve\")\n",
    "print(farm_cows)"
   ]
  },
  {
   "cell_type": "code",
   "execution_count": null,
   "metadata": {},
   "outputs": [
    {
     "name": "stdout",
     "output_type": "stream",
     "text": [
      "['Buttercup', 'Milkshake', 'Steve', 'Steve', 'Steve', 'Winnie the Moo']\n"
     ]
    }
   ],
   "source": [
    "farm_cows.sort()\n",
    "print(farm_cows)"
   ]
  },
  {
   "cell_type": "markdown",
   "metadata": {},
   "source": [
    "## List Subset"
   ]
  },
  {
   "cell_type": "code",
   "execution_count": null,
   "metadata": {},
   "outputs": [
    {
     "name": "stdout",
     "output_type": "stream",
     "text": [
      "Milkshake\n",
      "['Dasiy', 'Milkshake']\n",
      "['Dasiy', 'Milkshake', 'Buttercup']\n",
      "['Winnie the Moo', 'Dasiy', 'Milkshake']\n"
     ]
    }
   ],
   "source": [
    "farm_cows = [\"Winnie the Moo\", \"Dasiy\", \"Milkshake\", \"Buttercup\"]\n",
    "print(farm_cows[2])\n",
    "print(farm_cows[1:3])\n",
    "print(farm_cows[1:])\n",
    "print(farm_cows[:3])"
   ]
  },
  {
   "cell_type": "markdown",
   "metadata": {},
   "source": [
    "## Multidimensional Lists"
   ]
  },
  {
   "cell_type": "code",
   "execution_count": null,
   "metadata": {},
   "outputs": [
    {
     "name": "stdout",
     "output_type": "stream",
     "text": [
      "Hamlet\n",
      "Buttercup\n"
     ]
    }
   ],
   "source": [
    "farm_cows = [\"Winnie the Moo\", \"Dasiy\", \"Milkshake\", \"Buttercup\"]\n",
    "farm_sheep = [\"Baart\", \"Barbara\"]\n",
    "farm_pigs = [\"Bacon\", \"Hamlet\", \"Hog\"]\n",
    "\n",
    "farm_animals = [farm_cows, farm_sheep, farm_pigs]\n",
    "\n",
    "print(farm_animals [2] [1])\n",
    "print(farm_animals [0] [3])"
   ]
  },
  {
   "cell_type": "markdown",
   "metadata": {},
   "source": [
    "## Loosely Typed Lists"
   ]
  },
  {
   "cell_type": "code",
   "execution_count": null,
   "metadata": {},
   "outputs": [
    {
     "name": "stdout",
     "output_type": "stream",
     "text": [
      "Snow Hiil Farm\n",
      "['Winnie the Moo', 'Daisy']\n",
      "1991\n"
     ]
    }
   ],
   "source": [
    "farm = [\"Snow Hiil Farm\", [\"Winnie the Moo\", \"Daisy\"], 1991]\n",
    "#         string               List                     Int\n",
    "\n",
    "print(farm[0])\n",
    "print(farm[1])\n",
    "print(farm[2])"
   ]
  },
  {
   "cell_type": "markdown",
   "metadata": {},
   "source": [
    "## Tuples"
   ]
  },
  {
   "cell_type": "code",
   "execution_count": null,
   "metadata": {},
   "outputs": [],
   "source": [
    "cat_list = [\"Buttons\", 23, 4.0]\n",
    "cat_tuple = (\"Mr Socks\", 23, 4.0)"
   ]
  },
  {
   "cell_type": "code",
   "execution_count": null,
   "metadata": {},
   "outputs": [
    {
     "name": "stdout",
     "output_type": "stream",
     "text": [
      "['Tigger', 23, 4.0]\n"
     ]
    }
   ],
   "source": [
    "# name change\n",
    "cat_list[0] = \"Tigger\"\n",
    "print(cat_list)"
   ]
  },
  {
   "cell_type": "code",
   "execution_count": null,
   "metadata": {},
   "outputs": [
    {
     "ename": "TypeError",
     "evalue": "'tuple' object does not support item assignment",
     "output_type": "error",
     "traceback": [
      "\u001b[1;31m---------------------------------------------------------------------------\u001b[0m",
      "\u001b[1;31mTypeError\u001b[0m                                 Traceback (most recent call last)",
      "\u001b[1;32m<ipython-input-27-471671a444a9>\u001b[0m in \u001b[0;36m<module>\u001b[1;34m\u001b[0m\n\u001b[1;32m----> 1\u001b[1;33m \u001b[0mcat_tuple\u001b[0m\u001b[1;33m[\u001b[0m\u001b[1;36m0\u001b[0m\u001b[1;33m]\u001b[0m \u001b[1;33m=\u001b[0m \u001b[1;34m\"Twiglet\"\u001b[0m\u001b[1;33m\u001b[0m\u001b[1;33m\u001b[0m\u001b[0m\n\u001b[0m\u001b[0;32m      2\u001b[0m \u001b[0mprint\u001b[0m\u001b[1;33m(\u001b[0m\u001b[0mcat_tuple\u001b[0m\u001b[1;33m)\u001b[0m\u001b[1;33m\u001b[0m\u001b[1;33m\u001b[0m\u001b[0m\n",
      "\u001b[1;31mTypeError\u001b[0m: 'tuple' object does not support item assignment"
     ]
    }
   ],
   "source": [
    "# name cannot be changed\n",
    "cat_tuple[0] = \"Twiglet\"\n",
    "print(cat_tuple)"
   ]
  },
  {
   "cell_type": "markdown",
   "metadata": {},
   "source": [
    "## Dictionaries "
   ]
  },
  {
   "cell_type": "code",
   "execution_count": null,
   "metadata": {},
   "outputs": [
    {
     "name": "stdout",
     "output_type": "stream",
     "text": [
      "Cows go moo\n",
      "Sheep go baa\n",
      "Cat go meow\n"
     ]
    }
   ],
   "source": [
    "farm_animals = {\"cow\": \"Cows go moo\",\n",
    "                \"sheep\": \"Sheep go baa\",\n",
    "                \"cat\": \"Cat go meow\" \n",
    "                }\n",
    "\n",
    "print(farm_animals[\"cow\"])\n",
    "print(farm_animals[\"sheep\"])\n",
    "print(farm_animals[\"cat\"])"
   ]
  },
  {
   "cell_type": "code",
   "execution_count": null,
   "metadata": {},
   "outputs": [
    {
     "name": "stdout",
     "output_type": "stream",
     "text": [
      "Cows go moo\n",
      "Sheep goes baa\n"
     ]
    }
   ],
   "source": [
    "# adding to dictionary\n",
    "farm_animals = {}\n",
    "farm_animals[\"cow\"] = \"Cows go moo\"\n",
    "farm_animals[\"sheep\"] = \"Sheep goes baa\"\n",
    "\n",
    "print(farm_animals[\"cow\"])\n",
    "print(farm_animals[\"sheep\"])"
   ]
  },
  {
   "cell_type": "code",
   "execution_count": 16,
   "metadata": {},
   "outputs": [
    {
     "data": {
      "text/plain": [
       "['Cows go moo', 'Sheep goes baa', 'Cats go meow']"
      ]
     },
     "execution_count": 16,
     "metadata": {},
     "output_type": "execute_result"
    }
   ],
   "source": [
    "# keys and values \n",
    "farm_animals = {\"cow\" : \"Cows go moo\",\n",
    "\t\t  \"sheep\": \"Sheep goes baa\",\n",
    "\t\t  \"cat\": \"Cats go meow\"\n",
    "\t\t }\n",
    "\n",
    "#list(farm_animals.keys()) \t\n",
    "list(farm_animals.values()) "
   ]
  },
  {
   "cell_type": "code",
   "execution_count": null,
   "metadata": {},
   "outputs": [
    {
     "name": "stdout",
     "output_type": "stream",
     "text": [
      "{'pet1': {'name': 'Fig', 'year': 2004}, 'pet2': {'name': 'Ruby', 'year': 2007}, 'pet3': {'name': 'Twiglet', 'year': 2011}}\n"
     ]
    }
   ],
   "source": [
    "# nested dictionaries \n",
    "mypets = {\n",
    "  \"pet1\" : {\n",
    "    \"name\" : \"Fig\",\n",
    "    \"year\" : 2004\n",
    "  },\n",
    "  \"pet2\" : {\n",
    "    \"name\" : \"Ruby\",\n",
    "    \"year\" : 2007\n",
    "  },\n",
    "  \"pet3\" : {\n",
    "    \"name\" : \"Twiglet\",\n",
    "    \"year\" : 2011\n",
    "  }\n",
    "}\n",
    "\n",
    "print(mypets)"
   ]
  }
 ],
 "metadata": {
  "interpreter": {
   "hash": "ac59ebe37160ed0dfa835113d9b8498d9f09ceb179beaac4002f036b9467c963"
  },
  "kernelspec": {
   "display_name": "Python 3.9.5 64-bit",
   "language": "python",
   "name": "python3"
  },
  "language_info": {
   "codemirror_mode": {
    "name": "ipython",
    "version": 3
   },
   "file_extension": ".py",
   "mimetype": "text/x-python",
   "name": "python",
   "nbconvert_exporter": "python",
   "pygments_lexer": "ipython3",
   "version": "3.10.4"
  },
  "orig_nbformat": 4
 },
 "nbformat": 4,
 "nbformat_minor": 2
}
