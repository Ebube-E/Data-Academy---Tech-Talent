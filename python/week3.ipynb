{
 "cells": [
  {
   "cell_type": "code",
   "execution_count": 7,
   "metadata": {},
   "outputs": [
    {
     "name": "stdout",
     "output_type": "stream",
     "text": [
      "For year 0 The price of the motorbike is: 2000\n",
      "For year 1 The price of the motorbike is: 1800.0\n",
      "For year 2 The price of the motorbike is: 1620.0\n",
      "For year 3 The price of the motorbike is: 1458.0\n",
      "For year 4 The price of the motorbike is: 1312.2\n",
      "For year 5 The price of the motorbike is: 1180.98\n",
      "For year 6 The price of the motorbike is: 1062.882\n"
     ]
    }
   ],
   "source": [
    "#Task 1: Motorbike\n",
    "\n",
    "year = 0\n",
    "bike_price = 2000\n",
    "\n",
    "# use a while loop\n",
    "\n",
    "while bike_price > 1000:\n",
    "    print(\"For year\",year,\"The price of the motorbike is:\", bike_price)\n",
    "    year += 1\n",
    "    bike_price *= 0.9"
   ]
  },
  {
   "cell_type": "code",
   "execution_count": 14,
   "metadata": {},
   "outputs": [
    {
     "name": "stdout",
     "output_type": "stream",
     "text": [
      "There are 3 vowels in orange\n"
     ]
    }
   ],
   "source": [
    "# Task 2: Fruity Loops\n",
    "\n",
    "fruit = str(input(\"Enter a name of a fruit\")).lower() # all input in lower case\n",
    "count_vowel = 0\n",
    "vowels = ['a', 'e', 'i', 'o', 'u']\n",
    "for letter in fruit: #loop letter in fruit\n",
    "    if letter in vowels: #checking for letter in vowels\n",
    "        count_vowel += 1 # add 1 to vowel\n",
    "    else:\n",
    "        pass     \n",
    "print(f'There are {count_vowel} vowels in {fruit}')   \n",
    "\n",
    "\n"
   ]
  },
  {
   "cell_type": "code",
   "execution_count": 33,
   "metadata": {},
   "outputs": [
    {
     "name": "stdout",
     "output_type": "stream",
     "text": [
      "The volume of the box is :  77.44000000000001\n"
     ]
    }
   ],
   "source": [
    "'''Write a program that includes a procedure to multiply 3 numbers together and outputs\n",
    "\n",
    "the result.'''\n",
    "\n",
    "def volume():\n",
    "    width = float(input(\"Enter box width\"))\n",
    "    depth = float(input(\"Enter box depth\"))\n",
    "    height = float(input(\"Enter box height\"))\n",
    "    print(\"The volume of the box is : \", width*depth*height)\n",
    "\n",
    "#call the volume\n",
    "volume()"
   ]
  },
  {
   "cell_type": "code",
   "execution_count": 34,
   "metadata": {},
   "outputs": [
    {
     "name": "stdout",
     "output_type": "stream",
     "text": [
      "The volume is:  134\n"
     ]
    }
   ],
   "source": [
    "'''Modify the procedure to a function to return the volume and output the volume in\n",
    "\n",
    "the main program'''\n",
    "\n",
    "def volume_fxn(width, depth, height):\n",
    "    box_volume = float(width * depth * height)\n",
    "    #round(box_volume, 2)\n",
    "    print('The volume is: ', round(box_volume))\n",
    "\n",
    "volume_fxn(5.50, 4.40, 5.55)\n",
    "\n"
   ]
  },
  {
   "cell_type": "code",
   "execution_count": 36,
   "metadata": {},
   "outputs": [
    {
     "name": "stdout",
     "output_type": "stream",
     "text": [
      "Pythagoras' Calculator\n",
      "\n",
      " Options are:\n",
      "\n",
      " 1- Find tthe length of a given b and c\n",
      "\n",
      " 2. Find the length of b given a and c\n",
      "\n",
      " 3. Find the length of c given a and b\n",
      "The length of b is:  <function theorem_2 at 0x106347ca0>\n",
      "Pythagoras' Calculator\n",
      "\n",
      " Options are:\n",
      "\n",
      " 1- Find tthe length of a given b and c\n",
      "\n",
      " 2. Find the length of b given a and c\n",
      "\n",
      " 3. Find the length of c given a and b\n"
     ]
    }
   ],
   "source": [
    "'''Write a program that calculates the lengths of sides of a triangle using Pythagoras’s\n",
    "\n",
    "Theorem. Pythagoras’ Theorem states that the square of the long side (c) of a right-\n",
    "\n",
    "angled triangle is the sum of the squares of the two shorter sides (a and b).\n",
    "\n",
    "c**2 = a**2 + b**2'''\n",
    "\n",
    "import math #import math module\n",
    "\n",
    "def menu():\n",
    "    print(\"Pythagoras' Calculator\")\n",
    "    print(\"\\n Options are:\")\n",
    "    print(\"\\n 1- Find tshe length of a given b and c\")\n",
    "    print(\"\\n 2. Find the length of b given a and c\")\n",
    "    print(\"\\n 3. Find the length of c given a and b\")\n",
    "\n",
    "def theorem_1():\n",
    "    b = float(input(\"What is the b length of b?\"))\n",
    "    c = float(input(\"What is the length of c?\"))\n",
    "    a = math.sqrt(c**2-b**2)\n",
    "    return a\n",
    "\n",
    "\n",
    "\n",
    "def theorem_2():\n",
    "    a = float(input(\"What is the b length of a?\"))\n",
    "    c = float(input(\"What is the length of c?\"))\n",
    "    b = math.sqrt(c**2-a**2)\n",
    "    return b\n",
    "\n",
    "\n",
    "def theorem_3():\n",
    "    a = float(input(\"What is the b length of a?\"))\n",
    "    b = float(input(\"What is the length of b?\"))\n",
    "    c = math.sqrt(a**2-b**2)\n",
    "    return c\n",
    "\n",
    "\n",
    "menu()\n",
    "option = int(input(\"Select an option\"))\n",
    "if option == 1:\n",
    "    print(\"The length of a is : \", theorem_1)\n",
    "    menu()\n",
    "elif option == 2:\n",
    "    print(\"The length of b is: \", theorem_2)\n",
    "    menu()\n",
    "elif option == 3:\n",
    "    print(\"The length of c is :\", theorem_3)\n",
    "    menu()\n",
    "elif option == 9:\n",
    "    print(\"Exit! Goodbye\")\n",
    "else:\n",
    "    print(\"Invalid Option!\")\n",
    "    menu()\n"
   ]
  }
 ],
 "metadata": {
  "interpreter": {
   "hash": "31f2aee4e71d21fbe5cf8b01ff0e069b9275f58929596ceb00d14d90e3e16cd6"
  },
  "kernelspec": {
   "display_name": "Python 3.8.9 64-bit",
   "language": "python",
   "name": "python3"
  },
  "language_info": {
   "codemirror_mode": {
    "name": "ipython",
    "version": 3
   },
   "file_extension": ".py",
   "mimetype": "text/x-python",
   "name": "python",
   "nbconvert_exporter": "python",
   "pygments_lexer": "ipython3",
   "version": "3.8.9"
  },
  "orig_nbformat": 4
 },
 "nbformat": 4,
 "nbformat_minor": 2
}
