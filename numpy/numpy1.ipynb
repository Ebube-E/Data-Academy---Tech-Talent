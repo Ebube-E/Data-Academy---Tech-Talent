{
 "cells": [
  {
   "cell_type": "code",
   "execution_count": null,
   "metadata": {},
   "outputs": [],
   "source": [
    "import numpy as np\n",
    "\n",
    "#to know the numpy version\n",
    "print(np.__version__)"
   ]
  },
  {
   "cell_type": "code",
   "execution_count": null,
   "metadata": {},
   "outputs": [],
   "source": [
    "#Task 1: Basic Numpy\n",
    "'''Complete the following short basic NumPy tasks.'''\n",
    "\n",
    "# 1. Create a 1D array of numbers from 0 to 9\n",
    "\n",
    "import numpy as np\n",
    "\n",
    "x = np.array([0, 1, 2, 3, 4, 5, 6, 7, 8, 9])\n",
    "print(\"Array from 0 to 9: \")\n",
    "print(x)\n",
    "\n",
    "\n"
   ]
  },
  {
   "cell_type": "code",
   "execution_count": 3,
   "metadata": {},
   "outputs": [
    {
     "name": "stdout",
     "output_type": "stream",
     "text": [
      "[1 2 3 4 5 6 7 8]\n",
      "[[1 2 3 4]\n",
      " [5 6 7 8]]\n"
     ]
    }
   ],
   "source": [
    "# 2. Convert a 1D array to a 2D array with 2 rows\n",
    "\n",
    "import numpy as np\n",
    "y = np.array([1, 2, 3, 4, 5, 6, 7, 8])\n",
    "print(y)\n",
    "x = y.reshape(2,4)\n",
    "print(x)\n"
   ]
  },
  {
   "cell_type": "code",
   "execution_count": 4,
   "metadata": {},
   "outputs": [
    {
     "name": "stdout",
     "output_type": "stream",
     "text": [
      "Array of integers from 30 to 70\n",
      "[30 31 32 33 34 35 36 37 38 39 40 41 42 43 44 45 46 47 48 49 50 51 52 53\n",
      " 54 55 56 57 58 59 60 61 62 63 64 65 66 67 68 69 70]\n"
     ]
    }
   ],
   "source": [
    "# 3. Write a NumPy program to create an array of the integers from 30 to 70\n",
    "import numpy as np\n",
    "arr = np.arange(30, 71)\n",
    "print(\"Array of integers from 30 to 70\")\n",
    "\n",
    "print(arr)\n",
    "\n"
   ]
  },
  {
   "cell_type": "code",
   "execution_count": null,
   "metadata": {},
   "outputs": [],
   "source": [
    "# 4. Write a NumPy program to append values to the end of an array.\n",
    "import numpy as np\n",
    "\n",
    "x = [1, 2, 3, 4, 5]\n",
    "print(\"Main array: \", x)\n",
    "\n",
    "\n",
    "#to append new numbers to the main array\n",
    "\n",
    "x = np.append(x, [6, 7, 8, 9, 10])\n",
    "print(\"Combined array is: \", x)"
   ]
  },
  {
   "cell_type": "code",
   "execution_count": null,
   "metadata": {},
   "outputs": [],
   "source": [
    "#Extension\n",
    "\n",
    "#1. Write a NumPy program to find the number of rows and columns of a given matrix.\n",
    "import numpy as np\n",
    "x = np.arange(1,11).reshape((2,5))\n",
    "print(\"Main Matrix is: \", x)\n",
    "\n",
    "print(\"Number of rows and colume of matrix is : \")\n",
    "print(x.shape)"
   ]
  },
  {
   "cell_type": "code",
   "execution_count": 5,
   "metadata": {},
   "outputs": [
    {
     "name": "stdout",
     "output_type": "stream",
     "text": [
      "The Array of all the even integers from 30 to 70 are:  [30 32 34 36 38 40 42 44 46 48 50 52 54 56 58 60 62 64 66 68 70]\n"
     ]
    }
   ],
   "source": [
    "#2. Write a NumPy program to create an array of all the even integers from 30 to 70.\n",
    "import numpy as np\n",
    "x = np.arange(30,71,2)\n",
    "print(\"The Array of all the even integers from 30 to 70 are: \", x)\n"
   ]
  },
  {
   "cell_type": "code",
   "execution_count": 6,
   "metadata": {},
   "outputs": [
    {
     "name": "stdout",
     "output_type": "stream",
     "text": [
      "List to array: \n",
      "[1 2 3 4 5]\n",
      "Tuple to array: \n",
      "[ 6  7  8  9 10]\n"
     ]
    }
   ],
   "source": [
    "#3. Write a NumPy program to convert a list and tuple into arrays.\n",
    "import numpy as np\n",
    "list = [1, 2, 3, 4, 5]\n",
    "#convert list to an array\n",
    "print(\"List to array: \")\n",
    "print(np.asarray(list))\n",
    "\n",
    "\n",
    "tuple = (6, 7, 8, 9, 10)\n",
    "#convert tuple to an array\n",
    "print(\"Tuple to array: \")\n",
    "print(np.asarray(tuple))\n"
   ]
  },
  {
   "cell_type": "code",
   "execution_count": 7,
   "metadata": {},
   "outputs": [
    {
     "name": "stdout",
     "output_type": "stream",
     "text": [
      "[(b'Jason', 3, 30.2) (b'Joel', 4, 35.6) (b'Jubilee', 5, 40.2)\n",
      " (b'Joyce', 6, 50.2)]\n",
      "[(b'Jason', 3, 30.2) (b'Joel', 4, 35.6) (b'Jubilee', 5, 40.2)\n",
      " (b'Joyce', 6, 50.2)]\n"
     ]
    }
   ],
   "source": [
    "#4. Write a NumPy program to create a structured array from given student name, height,\n",
    "\n",
    "#class and their data types. Now sort the array on height.\n",
    "\n",
    "#set the data types\n",
    "\n",
    "import numpy as np\n",
    "dataType = [(\"name\", \"S15\"), (\"class\", int), (\"height\", float)]\n",
    "students = [(\"Jason\", 3, 30.2), (\"Joel\", 4, 35.6), (\"Jubilee\", 5, 40.20), (\"Joyce\", 6, 50.20)]\n",
    "\n",
    "#create the array\n",
    "students_details = np.array(students, dtype=dataType)\n",
    "print(students_details)\n",
    "#sorting by height)\n",
    "print(np.sort(students_details, order=\"height\"))"
   ]
  },
  {
   "cell_type": "code",
   "execution_count": 8,
   "metadata": {},
   "outputs": [
    {
     "name": "stdout",
     "output_type": "stream",
     "text": [
      "Add: \n",
      "11.0\n",
      "Subtract: \n",
      "-1.0\n",
      "Multiply: \n",
      "30.0\n",
      "Divide: \n",
      "0.8333333333333334\n"
     ]
    }
   ],
   "source": [
    "#Complete the following short Mathematics tasks\n",
    "\n",
    "#1. Write a NumPy program to add, subtract, multiply, divide arguments elementwise.\n",
    "\n",
    "import numpy as np\n",
    "\n",
    "#addition\n",
    "print(\"Add: \")\n",
    "x = np.add(5.0, 6.0)\n",
    "\n",
    "print(x)\n",
    "\n",
    "#subtraction\n",
    "print(\"Subtract: \")\n",
    "i = np.subtract(5.0, 6.0)\n",
    "print(i)\n",
    "\n",
    "#Multiplication\n",
    "print(\"Multiply: \")\n",
    "y = np.multiply(5.0, 6.0)\n",
    "print(y)\n",
    "\n",
    "#division\n",
    "print(\"Divide: \")\n",
    "a = np.divide(5.0, 6.0)\n",
    "print(a)\n"
   ]
  },
  {
   "cell_type": "code",
   "execution_count": 9,
   "metadata": {},
   "outputs": [
    {
     "name": "stdout",
     "output_type": "stream",
     "text": [
      "[11.        -1.        30.         0.8333334]\n",
      "[11. -1. 30.  1.]\n"
     ]
    }
   ],
   "source": [
    "#2. Write a NumPy program to round elements of the array to the nearest integer.\n",
    "import numpy as np\n",
    "x = np.array([11.0, -1.0, 30.0, 0.8333334])\n",
    "print(x)\n",
    "#round elements\n",
    "x = np.rint(x)\n",
    "print(x)"
   ]
  },
  {
   "cell_type": "code",
   "execution_count": 10,
   "metadata": {},
   "outputs": [
    {
     "name": "stdout",
     "output_type": "stream",
     "text": [
      "Main Array:  [0 1 2 3 4 5 6 7]\n",
      "[0.  0.5 1.  1.5 2.  2.5 3.  3.5]\n"
     ]
    }
   ],
   "source": [
    "#3. Write a NumPy program to get true division of the element-wise array inputs.\n",
    "import numpy as np\n",
    "a = np.arange(8)\n",
    "print(\"Main Array: \", a)\n",
    "\n",
    "print(np.true_divide(a, 2))\n"
   ]
  },
  {
   "cell_type": "code",
   "execution_count": null,
   "metadata": {},
   "outputs": [],
   "source": [
    "#Extension\n",
    "\n",
    "#1. Write a NumPy program to multiply a 5x3 matrix by a 3x2 matrix and create a real matrix\n",
    "\n",
    "#product.\n",
    "\n",
    "#use random to select numbers at random\n",
    "\n",
    "import numpy as np\n",
    "a = np.random.random((5,3))\n",
    "print(\"Array One is: \", a)\n",
    "\n",
    "\n",
    "b = np.random.random((3,2))\n",
    "print(\"Array Two is: \", b)\n",
    "\n",
    "\n",
    "c = np.dot(a,b)\n",
    "print(\"Product of the two arrays is: \", c)"
   ]
  },
  {
   "cell_type": "code",
   "execution_count": null,
   "metadata": {},
   "outputs": [],
   "source": [
    "#2. Write a NumPy program to create a random array with 1000 elements and compute the\n",
    "\n",
    "# average, variance, standard deviation of the array elements.\n",
    "import numpy as np\n",
    "x = np.random.randn(1000)\n",
    "\n",
    "#calculate mean\n",
    "print(\"The Average of array elements is: \")\n",
    "mean = x.mean()\n",
    "print(mean)\n",
    "\n",
    "#Calculate the Statndard deviation\n",
    "print(\"The Standard Deviation of the array elements is: \")\n",
    "std = x.std()\n",
    "print(std)\n",
    "\n",
    "#Calculate the Variance\n",
    "print(\"The Variance of the array elements is: \")\n",
    "var = x.var()\n",
    "print(var)\n"
   ]
  },
  {
   "cell_type": "code",
   "execution_count": null,
   "metadata": {},
   "outputs": [],
   "source": [
    "#3. Write a NumPy program to calculate round, floor, ceiling, truncated and round (to the\n",
    "\n",
    "#given number of decimals) of the input, elementwise of a given array.\n",
    "import numpy as np\n",
    "a = np.array([1.1, 2.2, 3.3, 4.4, 5.5, 6.6])\n",
    "print(\"Main Array: \")\n",
    "print(a)\n",
    "\n",
    "# calculate the round, floor, ceiling, truncated\n",
    "r1 = np.around(a)\n",
    "r2 = np.floor(a)\n",
    "r3 = np.ceil(a)\n",
    "r4 = np.trunc(a)\n",
    "r5 = [round(elem) for elem in a]\n",
    "\n",
    "\n",
    "print(\"\\naround: \", r1)\n",
    "print(\"floor: \", r2)\n",
    "print(\"ceil: \", r3)\n",
    "print(\"trunc: \", r4)\n",
    "print(\"round: \", r5)"
   ]
  },
  {
   "cell_type": "code",
   "execution_count": 11,
   "metadata": {},
   "outputs": [
    {
     "name": "stdout",
     "output_type": "stream",
     "text": [
      "Main Array:  [1 2 3 5 6 7]\n",
      "Maximum Element: 7\n",
      "Minimum Element: 1\n"
     ]
    }
   ],
   "source": [
    "\n",
    "'''4. Write a Python program to find the maximum and minimum value of 1D array.\n",
    "\n",
    "create a 1D array'''\n",
    "import numpy as np\n",
    "x = np.array([1, 2, 3,\n",
    "             5, 6, 7])\n",
    "#find the maximum element in the array\n",
    "maximum_element = np.amax(x)\n",
    "\n",
    "#find minimum element\n",
    "\n",
    "minimum_element = np.amin(x)\n",
    "\n",
    "#print Outputs\n",
    "\n",
    "print(\"Main Array: \", x)\n",
    "print(\"Maximum Element:\", maximum_element)\n",
    "print(\"Minimum Element:\", minimum_element)"
   ]
  }
 ],
 "metadata": {
  "interpreter": {
   "hash": "31f2aee4e71d21fbe5cf8b01ff0e069b9275f58929596ceb00d14d90e3e16cd6"
  },
  "kernelspec": {
   "display_name": "Python 3.8.9 64-bit",
   "language": "python",
   "name": "python3"
  },
  "language_info": {
   "codemirror_mode": {
    "name": "ipython",
    "version": 3
   },
   "file_extension": ".py",
   "mimetype": "text/x-python",
   "name": "python",
   "nbconvert_exporter": "python",
   "pygments_lexer": "ipython3",
   "version": "3.9.7"
  },
  "orig_nbformat": 4
 },
 "nbformat": 4,
 "nbformat_minor": 2
}
