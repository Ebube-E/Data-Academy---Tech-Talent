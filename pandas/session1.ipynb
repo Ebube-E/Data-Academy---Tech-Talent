{
 "cells": [
  {
   "cell_type": "code",
   "execution_count": 2,
   "metadata": {},
   "outputs": [
    {
     "name": "stdout",
     "output_type": "stream",
     "text": [
      "Requirement already satisfied: pandas in /Users/oluebubeihemadu/opt/anaconda3/lib/python3.9/site-packages (1.4.3)\n",
      "Requirement already satisfied: pytz>=2020.1 in /Users/oluebubeihemadu/opt/anaconda3/lib/python3.9/site-packages (from pandas) (2021.3)\n",
      "Requirement already satisfied: python-dateutil>=2.8.1 in /Users/oluebubeihemadu/opt/anaconda3/lib/python3.9/site-packages (from pandas) (2.8.2)\n",
      "Requirement already satisfied: numpy>=1.18.5 in /Users/oluebubeihemadu/opt/anaconda3/lib/python3.9/site-packages (from pandas) (1.23.1)\n",
      "Requirement already satisfied: six>=1.5 in /Users/oluebubeihemadu/opt/anaconda3/lib/python3.9/site-packages (from python-dateutil>=2.8.1->pandas) (1.16.0)\n",
      "Note: you may need to restart the kernel to use updated packages.\n"
     ]
    }
   ],
   "source": [
    "pip install pandas"
   ]
  },
  {
   "cell_type": "code",
   "execution_count": 5,
   "metadata": {},
   "outputs": [],
   "source": [
    "import pandas as pd"
   ]
  },
  {
   "cell_type": "code",
   "execution_count": 7,
   "metadata": {},
   "outputs": [],
   "source": [
    "def main():\n",
    "  n = 1024\n",
    "  while n > 0:\n",
    "    n = n // 10\n",
    "    print(n % 10)"
   ]
  }
 ],
 "metadata": {
  "interpreter": {
   "hash": "c5dfed38b033623adadc230a0ee07a503dda119d34fc70f5fb20ca6d6ae38356"
  },
  "kernelspec": {
   "display_name": "Python 3.9.7 ('base')",
   "language": "python",
   "name": "python3"
  },
  "language_info": {
   "codemirror_mode": {
    "name": "ipython",
    "version": 3
   },
   "file_extension": ".py",
   "mimetype": "text/x-python",
   "name": "python",
   "nbconvert_exporter": "python",
   "pygments_lexer": "ipython3",
   "version": "3.9.7"
  },
  "orig_nbformat": 4
 },
 "nbformat": 4,
 "nbformat_minor": 2
}
